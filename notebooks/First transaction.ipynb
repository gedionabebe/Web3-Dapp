{
 "cells": [
  {
   "cell_type": "markdown",
   "id": "54f8b7a5",
   "metadata": {},
   "source": [
    "# Algorand Transaction on Testnet"
   ]
  },
  {
   "cell_type": "code",
   "execution_count": 1,
   "id": "25e81ce7",
   "metadata": {},
   "outputs": [],
   "source": [
    "import json\n",
    "import base64\n",
    "from algosdk import account, mnemonic, constants\n",
    "from algosdk.v2client import algod\n",
    "from algosdk.future import transaction"
   ]
  },
  {
   "cell_type": "code",
   "execution_count": 2,
   "id": "f4de34ae",
   "metadata": {},
   "outputs": [
    {
     "name": "stdout",
     "output_type": "stream",
     "text": [
      "My address: HYKZNN4VKNBQPCDV4DWFOAX42EHZRA5VYUCCLUJX3LMDRAG2CSQJENDRNY\n",
      "My private key: tu+K328lOm8JrgKornvYJixtIosHrXiG23Rfryjb9Q4+FZa3lVNDB4h14OxXAvzRD5iDtcUEJdE32tg4gNoUoA==\n",
      "My passphrase: walnut close used finger inmate forward icon actor steak upgrade history second surge silk detail public someone host risk vote eyebrow item jeans abandon mixed\n"
     ]
    }
   ],
   "source": [
    "private_key, address = account.generate_account()\n",
    "print(\"My address: {}\".format(address))\n",
    "print(\"My private key: {}\".format(private_key))\n",
    "print(\"My passphrase: {}\".format(mnemonic.from_private_key(private_key)))"
   ]
  },
  {
   "cell_type": "code",
   "execution_count": 27,
   "id": "3dea22f0",
   "metadata": {},
   "outputs": [],
   "source": [
    "algod_address = \"https://testnet-algorand.api.purestake.io/ps2\"\n",
    "algod_token = \"hX5WEmJCdA8dS7wgsxZ57aBbUSzz8K0O5TPLrgVn\"\n",
    "headers = {\n",
    "   \"X-API-Key\": algod_token,\n",
    "}\n",
    "algod_client = algod.AlgodClient(algod_token, algod_address,headers)"
   ]
  },
  {
   "cell_type": "code",
   "execution_count": 29,
   "id": "24c672ad",
   "metadata": {},
   "outputs": [],
   "source": [
    "algod_client.health()"
   ]
  },
  {
   "cell_type": "code",
   "execution_count": 30,
   "id": "5f8d818d",
   "metadata": {},
   "outputs": [
    {
     "name": "stdout",
     "output_type": "stream",
     "text": [
      "Account balance: 5000000 microAlgos\n",
      "\n"
     ]
    }
   ],
   "source": [
    "account_info = algod_client.account_info(address)\n",
    "print(\"Account balance: {} microAlgos\".format(account_info.get('amount')) + \"\\n\")"
   ]
  },
  {
   "cell_type": "code",
   "execution_count": 38,
   "id": "068d1b30",
   "metadata": {},
   "outputs": [],
   "source": [
    "params = algod_client.suggested_params()\n",
    "params.flat_fee = True\n",
    "params.fee = constants.MIN_TXN_FEE \n",
    "receiver = \"HZ57J3K46JIJXILONBBZOHX6BKPXEM2VVXNRFSUED6DKFD5ZD24PMJ3MVA\"\n",
    "note = \"Hello World\".encode()\n",
    "amount = 1000000\n",
    "unsigned_txn = transaction.PaymentTxn(address, params, receiver, amount, None, note)"
   ]
  },
  {
   "cell_type": "code",
   "execution_count": 39,
   "id": "85b227ef",
   "metadata": {},
   "outputs": [],
   "source": [
    "signed_txn = unsigned_txn.sign(private_key)"
   ]
  },
  {
   "cell_type": "code",
   "execution_count": 40,
   "id": "f1a28f86",
   "metadata": {},
   "outputs": [
    {
     "name": "stdout",
     "output_type": "stream",
     "text": [
      "Successfully sent transaction with txID: FJOM46AQX6ASYQMADXGQOHRBNLXPW54QCDFFPMMZNT3BH2JBJGJQ\n",
      "Transaction information: {\n",
      "    \"confirmed-round\": 24407651,\n",
      "    \"pool-error\": \"\",\n",
      "    \"txn\": {\n",
      "        \"sig\": \"VveZ9nNUUgUnYjFID66/3Z7L+kPFYSHB74FyBP7QLr0BOfXSfuKCUUSBh3opZPCI7BmzMLDC7PEU58BdLbcnCw==\",\n",
      "        \"txn\": {\n",
      "            \"amt\": 1000000,\n",
      "            \"fee\": 1000,\n",
      "            \"fv\": 24407648,\n",
      "            \"gen\": \"testnet-v1.0\",\n",
      "            \"gh\": \"SGO1GKSzyE7IEPItTxCByw9x8FmnrCDexi9/cOUJOiI=\",\n",
      "            \"lv\": 24408648,\n",
      "            \"note\": \"SGVsbG8gV29ybGQ=\",\n",
      "            \"rcv\": \"HZ57J3K46JIJXILONBBZOHX6BKPXEM2VVXNRFSUED6DKFD5ZD24PMJ3MVA\",\n",
      "            \"snd\": \"HYKZNN4VKNBQPCDV4DWFOAX42EHZRA5VYUCCLUJX3LMDRAG2CSQJENDRNY\",\n",
      "            \"type\": \"pay\"\n",
      "        }\n",
      "    }\n",
      "}\n",
      "Decoded note: Hello World\n",
      "Starting Account balance: 5000000 microAlgos\n",
      "Amount transfered: 1000000 microAlgos\n",
      "Fee: 1000 microAlgos\n",
      "Final Account balance: 2998000 microAlgos\n",
      "\n"
     ]
    }
   ],
   "source": [
    "#submit transaction\n",
    "txid = algod_client.send_transaction(signed_txn)\n",
    "print(\"Successfully sent transaction with txID: {}\".format(txid))\n",
    "\n",
    "    # wait for confirmation \n",
    "try:\n",
    "    confirmed_txn = transaction.wait_for_confirmation(algod_client, txid, 4)  \n",
    "except Exception as err:\n",
    "    print(err)\n",
    "    \n",
    "\n",
    "print(\"Transaction information: {}\".format(\n",
    "    json.dumps(confirmed_txn, indent=4)))\n",
    "print(\"Decoded note: {}\".format(base64.b64decode(\n",
    "    confirmed_txn[\"txn\"][\"txn\"][\"note\"]).decode()))\n",
    "print(\"Starting Account balance: {} microAlgos\".format(account_info.get('amount')) )\n",
    "print(\"Amount transfered: {} microAlgos\".format(amount) )    \n",
    "print(\"Fee: {} microAlgos\".format(params.fee) ) \n",
    "\n",
    "\n",
    "account_info = algod_client.account_info(address)\n",
    "print(\"Final Account balance: {} microAlgos\".format(account_info.get('amount')) + \"\\n\")"
   ]
  }
 ],
 "metadata": {
  "kernelspec": {
   "display_name": "Python 3 (ipykernel)",
   "language": "python",
   "name": "python3"
  },
  "language_info": {
   "codemirror_mode": {
    "name": "ipython",
    "version": 3
   },
   "file_extension": ".py",
   "mimetype": "text/x-python",
   "name": "python",
   "nbconvert_exporter": "python",
   "pygments_lexer": "ipython3",
   "version": "3.9.1"
  }
 },
 "nbformat": 4,
 "nbformat_minor": 5
}
